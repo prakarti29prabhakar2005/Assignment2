{
 "cells": [
  {
   "cell_type": "code",
   "execution_count": null,
   "id": "e54bfa86-f5c0-47be-b75a-a53018705ec9",
   "metadata": {},
   "outputs": [],
   "source": [
    "Answer 1:While loop is best suited when it is not known ahead of time the number of iterations that are needed.\n",
    "When the number of iterations are known before entering the loop for loop is "
   ]
  },
  {
   "cell_type": "code",
   "execution_count": null,
   "id": "10540912-8e68-46b8-9f78-232a642be6cf",
   "metadata": {},
   "outputs": [],
   "source": [
    "Answer 2:#using for loop printing sum and product of first 10 natural numbers\n",
    "summation=0\n",
    "product=1\n",
    "for i in range (1,11):\n",
    "    summation+=i\n",
    "    product*=i\n",
    "print(\"sum is:\",summation)\n",
    "print(\"product is:\",product)\n",
    "    \n",
    "#using while loop printing sum and product of first 10 natural numbers\n",
    "summation=0\n",
    "product=1\n",
    "i=1\n",
    "while(i<=10):\n",
    "    summation+=i\n",
    "    product*=i\n",
    "    i=i+1\n",
    "print(\"sum is:\",summation)\n",
    "print(\"product is:\",product)\n",
    "        "
   ]
  },
  {
   "cell_type": "code",
   "execution_count": null,
   "id": "a9ab0ec5-2707-4a01-92b6-21b46b758625",
   "metadata": {},
   "outputs": [],
   "source": [
    "Answer 3:\n",
    "unit=int(input(\"Enter the unit of electricity consumed in a month:\"))\n",
    "charge=0\n",
    "if(unit<=100):\n",
    "    charge=unit*4.5\n",
    "elif(unit>100 and unit<=200):\n",
    "    charge=(100*4.5)+((unit-100)*6)\n",
    "elif(unit>200 and unit<=300):\n",
    "    charge=(100*4.5)+(100*6)+((unit-200)*10)\n",
    "else:\n",
    "    charge=(100*4.5)+(100*6)+(100*10)+((unit-300)*20)\n",
    "print(\"total charge is:\",charge)"
   ]
  },
  {
   "cell_type": "code",
   "execution_count": null,
   "id": "e967f35c-e54e-4b69-b476-750a19dfd716",
   "metadata": {},
   "outputs": [],
   "source": [
    "Answer 4:\n",
    "b=[]\n",
    "l=list(range(1,101))\n",
    "for i in l:\n",
    "    i=i*i*i\n",
    "    if(i%4==0):\n",
    "        b.append(i)\n",
    "    if(i%5==0):\n",
    "        b.append(i)\n",
    "print(list(set(b)))"
   ]
  },
  {
   "cell_type": "code",
   "execution_count": null,
   "id": "06feb97b-a264-4fe6-b4aa-89c5f7e6306b",
   "metadata": {},
   "outputs": [],
   "source": [
    "Answer 5:\n",
    "for word in string:\n",
    "     for letter in word:\n",
    "            if(letter=='a' or letter=='A' or letter=='e' or letter=='E' or letter=='i' or letter=='I' or letter=='o' or letter=='O' or letter=='u' or letter=='U'):\n",
    "                    print(letter)"
   ]
  }
 ],
 "metadata": {
  "kernelspec": {
   "display_name": "Python 3 (ipykernel)",
   "language": "python",
   "name": "python3"
  },
  "language_info": {
   "codemirror_mode": {
    "name": "ipython",
    "version": 3
   },
   "file_extension": ".py",
   "mimetype": "text/x-python",
   "name": "python",
   "nbconvert_exporter": "python",
   "pygments_lexer": "ipython3",
   "version": "3.10.8"
  }
 },
 "nbformat": 4,
 "nbformat_minor": 5
}
